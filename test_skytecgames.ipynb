{
 "cells": [
  {
   "cell_type": "markdown",
   "id": "34089ea5",
   "metadata": {},
   "source": [
    "# Исходный датасет\n",
    "Вам необходимо сгенерировать свой датасет или выбрать любой публичный датасет имеющий\n",
    "- не менее 100 млн записей. Если не получается сделать расчеты на таком объеме - можно уменьшить размер.\n",
    "- имеющий колонки различных типов данных - numeric, datetime (range в несколько лет), string.\n",
    "- достаточно минимального набора колонок, чтобы датафайл был не сильно большой.\n",
    "- имеющий не менее 10% дублей (допускается добавить их самостоятельно)\n",
    "- хранящийся в csv / json формате в файле на диске или по url"
   ]
  },
  {
   "cell_type": "code",
   "execution_count": 73,
   "id": "6e578af7",
   "metadata": {},
   "outputs": [],
   "source": [
    "import numpy as np\n",
    "import pandas as pd\n",
    "from datetime import datetime, timedelta\n",
    "import random\n",
    "import string"
   ]
  },
  {
   "cell_type": "code",
   "execution_count": 74,
   "id": "95528a83",
   "metadata": {},
   "outputs": [],
   "source": [
    "# Задаем параметры\n",
    "\n",
    "n_rows = 10_000_000\n",
    "duplicate_ratio = 0.1  # 10% дублей"
   ]
  },
  {
   "cell_type": "code",
   "execution_count": 75,
   "id": "d3ec241e",
   "metadata": {},
   "outputs": [],
   "source": [
    "# Генерация данных\n",
    "\n",
    "def generate_random_string(length=10): \n",
    "    return ''.join(random.choice(string.ascii_lowercase + string.digits) for i in range(length))\n",
    "\n",
    "numeric_data = np.random.randint(1, 100, n_rows)\n",
    "datetime_data = [datetime(2022, 1, 1) + timedelta(days=np.random.randint(0, 365 * 2)\n",
    "                                                  , seconds=np.random.randint(0, 86400)) for _ in range(n_rows)]\n",
    "string_data = [generate_random_string() for _ in range(n_rows)]"
   ]
  },
  {
   "cell_type": "code",
   "execution_count": 76,
   "id": "f28a3172",
   "metadata": {},
   "outputs": [],
   "source": [
    "# Создание DataFrame\n",
    "\n",
    "df = pd.DataFrame({\n",
    "    'numeric': numeric_data,\n",
    "    'datetime': datetime_data,\n",
    "    'string': string_data\n",
    "})"
   ]
  },
  {
   "cell_type": "code",
   "execution_count": 77,
   "id": "cfceb702",
   "metadata": {},
   "outputs": [],
   "source": [
    "# Добавление дублей\n",
    "\n",
    "n_duplicates = int(n_rows * duplicate_ratio)\n",
    "df_duplicates = df.sample(n=n_duplicates, replace=True)\n",
    "df = pd.concat([df, df_duplicates])"
   ]
  },
  {
   "cell_type": "code",
   "execution_count": 78,
   "id": "215165a1",
   "metadata": {},
   "outputs": [
    {
     "name": "stdout",
     "output_type": "stream",
     "text": [
      "Dataset generated and saved to 'large_dataset.csv'\n"
     ]
    }
   ],
   "source": [
    "# Сохранение в CSV\n",
    "\n",
    "df.to_csv('large_dataset.csv', index=False)\n",
    "print(\"Dataset generated and saved to 'large_dataset.csv'\")"
   ]
  },
  {
   "cell_type": "code",
   "execution_count": 79,
   "id": "7dabf7b6",
   "metadata": {},
   "outputs": [
    {
     "data": {
      "text/html": [
       "<div>\n",
       "<style scoped>\n",
       "    .dataframe tbody tr th:only-of-type {\n",
       "        vertical-align: middle;\n",
       "    }\n",
       "\n",
       "    .dataframe tbody tr th {\n",
       "        vertical-align: top;\n",
       "    }\n",
       "\n",
       "    .dataframe thead th {\n",
       "        text-align: right;\n",
       "    }\n",
       "</style>\n",
       "<table border=\"1\" class=\"dataframe\">\n",
       "  <thead>\n",
       "    <tr style=\"text-align: right;\">\n",
       "      <th></th>\n",
       "      <th>numeric</th>\n",
       "      <th>datetime</th>\n",
       "      <th>string</th>\n",
       "    </tr>\n",
       "  </thead>\n",
       "  <tbody>\n",
       "    <tr>\n",
       "      <th>0</th>\n",
       "      <td>33</td>\n",
       "      <td>2022-01-18 07:09:08</td>\n",
       "      <td>hnag7d8sy9</td>\n",
       "    </tr>\n",
       "    <tr>\n",
       "      <th>1</th>\n",
       "      <td>44</td>\n",
       "      <td>2023-09-20 10:09:17</td>\n",
       "      <td>s5zyh2ba3z</td>\n",
       "    </tr>\n",
       "    <tr>\n",
       "      <th>2</th>\n",
       "      <td>34</td>\n",
       "      <td>2023-06-10 08:54:35</td>\n",
       "      <td>p1pem2l0t3</td>\n",
       "    </tr>\n",
       "    <tr>\n",
       "      <th>3</th>\n",
       "      <td>38</td>\n",
       "      <td>2023-05-24 01:22:53</td>\n",
       "      <td>bp0xram6sh</td>\n",
       "    </tr>\n",
       "    <tr>\n",
       "      <th>4</th>\n",
       "      <td>29</td>\n",
       "      <td>2022-03-07 12:39:29</td>\n",
       "      <td>jd70n8evr9</td>\n",
       "    </tr>\n",
       "    <tr>\n",
       "      <th>...</th>\n",
       "      <td>...</td>\n",
       "      <td>...</td>\n",
       "      <td>...</td>\n",
       "    </tr>\n",
       "    <tr>\n",
       "      <th>9759838</th>\n",
       "      <td>12</td>\n",
       "      <td>2023-03-03 14:32:24</td>\n",
       "      <td>nb2yh3may9</td>\n",
       "    </tr>\n",
       "    <tr>\n",
       "      <th>8597412</th>\n",
       "      <td>94</td>\n",
       "      <td>2023-08-23 15:39:32</td>\n",
       "      <td>lq02m1dorn</td>\n",
       "    </tr>\n",
       "    <tr>\n",
       "      <th>3292899</th>\n",
       "      <td>34</td>\n",
       "      <td>2022-09-19 01:28:16</td>\n",
       "      <td>wsirv9uhgu</td>\n",
       "    </tr>\n",
       "    <tr>\n",
       "      <th>6716009</th>\n",
       "      <td>74</td>\n",
       "      <td>2023-09-22 09:05:16</td>\n",
       "      <td>16o7bddm1x</td>\n",
       "    </tr>\n",
       "    <tr>\n",
       "      <th>5601765</th>\n",
       "      <td>69</td>\n",
       "      <td>2023-01-31 11:52:03</td>\n",
       "      <td>4muebyb9qm</td>\n",
       "    </tr>\n",
       "  </tbody>\n",
       "</table>\n",
       "<p>11000000 rows × 3 columns</p>\n",
       "</div>"
      ],
      "text/plain": [
       "         numeric            datetime      string\n",
       "0             33 2022-01-18 07:09:08  hnag7d8sy9\n",
       "1             44 2023-09-20 10:09:17  s5zyh2ba3z\n",
       "2             34 2023-06-10 08:54:35  p1pem2l0t3\n",
       "3             38 2023-05-24 01:22:53  bp0xram6sh\n",
       "4             29 2022-03-07 12:39:29  jd70n8evr9\n",
       "...          ...                 ...         ...\n",
       "9759838       12 2023-03-03 14:32:24  nb2yh3may9\n",
       "8597412       94 2023-08-23 15:39:32  lq02m1dorn\n",
       "3292899       34 2022-09-19 01:28:16  wsirv9uhgu\n",
       "6716009       74 2023-09-22 09:05:16  16o7bddm1x\n",
       "5601765       69 2023-01-31 11:52:03  4muebyb9qm\n",
       "\n",
       "[11000000 rows x 3 columns]"
      ]
     },
     "execution_count": 79,
     "metadata": {},
     "output_type": "execute_result"
    }
   ],
   "source": [
    "df"
   ]
  },
  {
   "cell_type": "markdown",
   "id": "2f872a20",
   "metadata": {},
   "source": [
    "# Считывание и процессинг\n",
    "Считываем файл или тянем данные по ссылке и далее процессим данные\n",
    "- удалить пустые / na строки\n",
    "- удалить дубли\n",
    "- строки в которых нет цифр превратить в пустые\n",
    "- удалить записи в промежутке от 1 до 3 часов ночи\n",
    "\n",
    "Для ускорения выполнения распараллеливайте выполнение этих шагов\n"
   ]
  },
  {
   "cell_type": "code",
   "execution_count": 80,
   "id": "4650b4a5",
   "metadata": {},
   "outputs": [],
   "source": [
    "import re\n",
    "from joblib import Parallel, delayed, cpu_count"
   ]
  },
  {
   "cell_type": "code",
   "execution_count": 81,
   "id": "db528066",
   "metadata": {},
   "outputs": [],
   "source": [
    "# Функция для считывания данных\n",
    "\n",
    "def read_data(file_path):\n",
    "    return pd.read_csv(file_path)"
   ]
  },
  {
   "cell_type": "code",
   "execution_count": 82,
   "id": "95bc40c6",
   "metadata": {},
   "outputs": [],
   "source": [
    "# Функция для удаления пустых / na строк\n",
    "\n",
    "def drop_na(df):\n",
    "    return df.dropna()"
   ]
  },
  {
   "cell_type": "code",
   "execution_count": 83,
   "id": "9a8f84d2",
   "metadata": {},
   "outputs": [],
   "source": [
    "# Функция для удаления дублированных строк\n",
    "\n",
    "def drop_duplicates(df):\n",
    "    return df.drop_duplicates()"
   ]
  },
  {
   "cell_type": "code",
   "execution_count": 84,
   "id": "c7bf0ff9",
   "metadata": {},
   "outputs": [],
   "source": [
    "# Функция для преобразования строк без цифр в пустые\n",
    "\n",
    "def convert_non_numeric_strings(df):\n",
    "    df['string'] = df['string'].apply(lambda x: '' if not re.search(r'\\d', x) else x)\n",
    "    return df"
   ]
  },
  {
   "cell_type": "code",
   "execution_count": 85,
   "id": "80a21d54",
   "metadata": {},
   "outputs": [],
   "source": [
    "# Функция для удаления записей в промежутке от 1 до 3 часов ночи\n",
    "def remove_night_rows(df):\n",
    "    df['datetime'] = pd.to_datetime(df['datetime'])\n",
    "    return df[~((df['datetime'].dt.hour >= 1) & (df['datetime'].dt.hour < 3))]"
   ]
  },
  {
   "cell_type": "code",
   "execution_count": 86,
   "id": "06c09782",
   "metadata": {
    "scrolled": true
   },
   "outputs": [],
   "source": [
    "# Функция для параллельной обработки с использованием Joblib\n",
    "\n",
    "def parallel_process(data, func):\n",
    "    n_cores = cpu_count()\n",
    "    data_split = np.array_split(data, n_cores)\n",
    "    processed_splits = Parallel(n_jobs=n_cores)(delayed(func)(split) for split in data_split)\n",
    "    return pd.concat(processed_splits)"
   ]
  },
  {
   "cell_type": "code",
   "execution_count": 87,
   "id": "90a9b5fb",
   "metadata": {},
   "outputs": [],
   "source": [
    "# Основной процесс\n",
    "\n",
    "def process_data(file_path):\n",
    "    # Шаг 1: Считывание данных\n",
    "    df = read_data(file_path)\n",
    "\n",
    "    # Шаг 2: Удаление пустых / na строк\n",
    "    df = parallel_process(df, drop_na)\n",
    "\n",
    "    # Шаг 3: Удаление дублированных строк\n",
    "    df = parallel_process(df, drop_duplicates)\n",
    "\n",
    "    # Шаг 4: Преобразование строк без цифр в пустые\n",
    "    df = parallel_process(df, convert_non_numeric_strings)\n",
    "\n",
    "    # Шаг 5: Удаление записей в промежутке от 1 до 3 часов ночи\n",
    "    df = parallel_process(df, remove_night_rows)\n",
    "\n",
    "    return df"
   ]
  },
  {
   "cell_type": "code",
   "execution_count": 88,
   "id": "b890f6d8",
   "metadata": {},
   "outputs": [
    {
     "name": "stdout",
     "output_type": "stream",
     "text": [
      "Data processing completed\n"
     ]
    }
   ],
   "source": [
    "# Загрузка и процессинг данных\n",
    "\n",
    "file_path = 'large_dataset.csv'\n",
    "processed_data = process_data(file_path)\n",
    "print(\"Data processing completed\")"
   ]
  },
  {
   "cell_type": "code",
   "execution_count": 89,
   "id": "0aa1c3ff",
   "metadata": {
    "scrolled": true
   },
   "outputs": [
    {
     "data": {
      "text/html": [
       "<div>\n",
       "<style scoped>\n",
       "    .dataframe tbody tr th:only-of-type {\n",
       "        vertical-align: middle;\n",
       "    }\n",
       "\n",
       "    .dataframe tbody tr th {\n",
       "        vertical-align: top;\n",
       "    }\n",
       "\n",
       "    .dataframe thead th {\n",
       "        text-align: right;\n",
       "    }\n",
       "</style>\n",
       "<table border=\"1\" class=\"dataframe\">\n",
       "  <thead>\n",
       "    <tr style=\"text-align: right;\">\n",
       "      <th></th>\n",
       "      <th>numeric</th>\n",
       "      <th>datetime</th>\n",
       "      <th>string</th>\n",
       "    </tr>\n",
       "  </thead>\n",
       "  <tbody>\n",
       "    <tr>\n",
       "      <th>0</th>\n",
       "      <td>33</td>\n",
       "      <td>2022-01-18 07:09:08</td>\n",
       "      <td>hnag7d8sy9</td>\n",
       "    </tr>\n",
       "    <tr>\n",
       "      <th>1</th>\n",
       "      <td>44</td>\n",
       "      <td>2023-09-20 10:09:17</td>\n",
       "      <td>s5zyh2ba3z</td>\n",
       "    </tr>\n",
       "    <tr>\n",
       "      <th>2</th>\n",
       "      <td>34</td>\n",
       "      <td>2023-06-10 08:54:35</td>\n",
       "      <td>p1pem2l0t3</td>\n",
       "    </tr>\n",
       "    <tr>\n",
       "      <th>4</th>\n",
       "      <td>29</td>\n",
       "      <td>2022-03-07 12:39:29</td>\n",
       "      <td>jd70n8evr9</td>\n",
       "    </tr>\n",
       "    <tr>\n",
       "      <th>5</th>\n",
       "      <td>44</td>\n",
       "      <td>2023-08-21 10:46:40</td>\n",
       "      <td></td>\n",
       "    </tr>\n",
       "    <tr>\n",
       "      <th>...</th>\n",
       "      <td>...</td>\n",
       "      <td>...</td>\n",
       "      <td>...</td>\n",
       "    </tr>\n",
       "    <tr>\n",
       "      <th>10999994</th>\n",
       "      <td>77</td>\n",
       "      <td>2022-12-02 00:04:32</td>\n",
       "      <td>vql0uvdd92</td>\n",
       "    </tr>\n",
       "    <tr>\n",
       "      <th>10999995</th>\n",
       "      <td>12</td>\n",
       "      <td>2023-03-03 14:32:24</td>\n",
       "      <td>nb2yh3may9</td>\n",
       "    </tr>\n",
       "    <tr>\n",
       "      <th>10999996</th>\n",
       "      <td>94</td>\n",
       "      <td>2023-08-23 15:39:32</td>\n",
       "      <td>lq02m1dorn</td>\n",
       "    </tr>\n",
       "    <tr>\n",
       "      <th>10999998</th>\n",
       "      <td>74</td>\n",
       "      <td>2023-09-22 09:05:16</td>\n",
       "      <td>16o7bddm1x</td>\n",
       "    </tr>\n",
       "    <tr>\n",
       "      <th>10999999</th>\n",
       "      <td>69</td>\n",
       "      <td>2023-01-31 11:52:03</td>\n",
       "      <td>4muebyb9qm</td>\n",
       "    </tr>\n",
       "  </tbody>\n",
       "</table>\n",
       "<p>10047232 rows × 3 columns</p>\n",
       "</div>"
      ],
      "text/plain": [
       "          numeric            datetime      string\n",
       "0              33 2022-01-18 07:09:08  hnag7d8sy9\n",
       "1              44 2023-09-20 10:09:17  s5zyh2ba3z\n",
       "2              34 2023-06-10 08:54:35  p1pem2l0t3\n",
       "4              29 2022-03-07 12:39:29  jd70n8evr9\n",
       "5              44 2023-08-21 10:46:40            \n",
       "...           ...                 ...         ...\n",
       "10999994       77 2022-12-02 00:04:32  vql0uvdd92\n",
       "10999995       12 2023-03-03 14:32:24  nb2yh3may9\n",
       "10999996       94 2023-08-23 15:39:32  lq02m1dorn\n",
       "10999998       74 2023-09-22 09:05:16  16o7bddm1x\n",
       "10999999       69 2023-01-31 11:52:03  4muebyb9qm\n",
       "\n",
       "[10047232 rows x 3 columns]"
      ]
     },
     "execution_count": 89,
     "metadata": {},
     "output_type": "execute_result"
    }
   ],
   "source": [
    "processed_data"
   ]
  },
  {
   "cell_type": "markdown",
   "id": "fda09746",
   "metadata": {},
   "source": [
    "# Расчет метрик\n",
    "Агрегация по времени, для каждого часа рассчитать\n",
    "- кол-во уникальных string\n",
    "- среднее и медиану для numeric\n",
    "\n",
    "Так же напишите SQL запрос для выполнения подобных расчетов напрямую в базе данных. Можно его вставить в код в виде комментария.\n"
   ]
  },
  {
   "cell_type": "code",
   "execution_count": 90,
   "id": "efb6bb54",
   "metadata": {},
   "outputs": [],
   "source": [
    "processed_data['datetime'] = pd.to_datetime(processed_data['datetime'])\n",
    "processed_data['hour'] = processed_data['datetime'].dt.hour"
   ]
  },
  {
   "cell_type": "code",
   "execution_count": 91,
   "id": "924bf25c",
   "metadata": {},
   "outputs": [],
   "source": [
    "result = processed_data.groupby('hour') \\\n",
    "                        .agg(\n",
    "                            unique_strings=('string', pd.Series.nunique),\n",
    "                            mean_numeric=('numeric', 'mean'),\n",
    "                            median_numeric=('numeric', 'median'))"
   ]
  },
  {
   "cell_type": "code",
   "execution_count": 24,
   "id": "6569b434",
   "metadata": {},
   "outputs": [
    {
     "data": {
      "text/plain": [
       "10048765"
      ]
     },
     "execution_count": 24,
     "metadata": {},
     "output_type": "execute_result"
    }
   ],
   "source": [
    "# Эквивалентный SQL запрос для выполнения подобных расчетов напрямую в базе данных:\n",
    "import sqlite3\n",
    "\n",
    "# Подключаемся к SQLite базе данных (создаем временную базу данных в памяти)\n",
    "conn = sqlite3.connect(':memory:')\n",
    "cursor = conn.cursor()\n",
    "\n",
    "# Сохраняем датафрейм в таблицу SQLite\n",
    "processed_data.to_sql('processed_data', conn, index=False, if_exists='replace')\n",
    "\n",
    "query = \"\"\"\n",
    "select \n",
    "    extract(hour from datetime) as hour,\n",
    "    count(distinct string) as unique_strings,\n",
    "    avg(numeric) as mean_numeric,\n",
    "    percentile_cont(0.5) within group (order by numeric) as median_numeric\n",
    "from processed_data\n",
    "group by extract(hour from datetime)\n",
    "order by hour\n",
    "\"\"\"\n",
    "pd.read_sql_query(query, conn)\n",
    "\n",
    "# Закрываем соединение с базой данных\n",
    "conn.close()"
   ]
  },
  {
   "cell_type": "markdown",
   "id": "e91110eb",
   "metadata": {},
   "source": [
    "# Мерж с метриками\n",
    "К каждой строке в исходном датасете примержить метрики ближайшего часа рассчитанные в предыдущем шаге\n"
   ]
  },
  {
   "cell_type": "code",
   "execution_count": 92,
   "id": "a067408a",
   "metadata": {},
   "outputs": [],
   "source": [
    "data = processed_data.merge(result, left_on = processed_data.hour, right_index = True)\n",
    "del data['key_0']"
   ]
  },
  {
   "cell_type": "markdown",
   "id": "b29fc382",
   "metadata": {},
   "source": [
    "# Аналитические метрики\n",
    "Для колонки numeric по полному датасету построить\n",
    "- Гистограмму\n",
    "- 95% доверительный интервал, с комментарием как выбирали методику расчета"
   ]
  },
  {
   "cell_type": "code",
   "execution_count": 93,
   "id": "89512c73",
   "metadata": {},
   "outputs": [],
   "source": [
    "import matplotlib.pyplot as plt\n",
    "import seaborn as sns"
   ]
  },
  {
   "cell_type": "code",
   "execution_count": 94,
   "id": "9897ff49",
   "metadata": {},
   "outputs": [
    {
     "data": {
      "image/png": "[encoded data removed]",
      "text/plain": [
       "<Figure size 640x480 with 1 Axes>"
      ]
     },
     "metadata": {},
     "output_type": "display_data"
    }
   ],
   "source": [
    "# Гистограмма\n",
    "plt.hist(df['numeric'], bins=20, color='skyblue', edgecolor='black')\n",
    "plt.xlabel('Значение numeric')\n",
    "plt.ylabel('Частота')\n",
    "plt.title('Гистограмма значений numeric')\n",
    "plt.show()"
   ]
  },
  {
   "cell_type": "code",
   "execution_count": 95,
   "id": "4660e1b6",
   "metadata": {},
   "outputs": [
    {
     "name": "stdout",
     "output_type": "stream",
     "text": [
      "95% доверительный интервал для равномерного распределения: [49.983281581922014, 50.016718418077986]\n"
     ]
    }
   ],
   "source": [
    "# Комментарий к методике расчета\n",
    "# Для равномерного распределения, где среднее значение вычисляется как \n",
    "# среднее арифметическое между минимальным и максимальным значениями, а стандартное отклонение равно\n",
    "# половине разности между максимальным и минимальным значениями, \n",
    "# мы можем использовать формулу для равномерного распределения для расчета 95% доверительного интервала:\n",
    "\n",
    "# Функция для расчета 95% доверительного интервала для равномерного распределения\n",
    "def uniform_ci(df):\n",
    "    a = np.min(df)\n",
    "    b = np.max(df)\n",
    "    mu = (a + b) / 2\n",
    "    sigma = (b - a) / np.sqrt(12)\n",
    "    n = len(df) #размер выборки\n",
    "    margin_of_error = 1.96 * (sigma / np.sqrt(n))\n",
    "    lower_bound = mu - margin_of_error\n",
    "    upper_bound = mu + margin_of_error\n",
    "    return lower_bound, upper_bound\n",
    "\n",
    "# Преобразование данных в массив NumPy\n",
    "numeric_data = df['numeric'].values\n",
    "\n",
    "# Вызов функции для расчета доверительного интервала\n",
    "lower_bound, upper_bound = uniform_ci(numeric_data)\n",
    "print(f'95% доверительный интервал для равномерного распределения: [{lower_bound}, {upper_bound}]')"
   ]
  },
  {
   "cell_type": "markdown",
   "id": "8686580a",
   "metadata": {},
   "source": [
    "# Визуализация\n",
    "1.\tОтрисовать график среднего значения numeric колонки (y) по месяцам (x).\n",
    "2.\tHeatmap по частотности символов в колонке string\n"
   ]
  },
  {
   "cell_type": "code",
   "execution_count": 96,
   "id": "58840889",
   "metadata": {},
   "outputs": [
    {
     "data": {
      "image/png": "[encoded data removed]",
      "text/plain": [
       "<Figure size 1000x600 with 1 Axes>"
      ]
     },
     "metadata": {},
     "output_type": "display_data"
    }
   ],
   "source": [
    "# Извлечение месяца из столбца datetime\n",
    "data['month'] = data['datetime'].dt.month\n",
    "\n",
    "# Группировка данных по месяцу и вычисление среднего значения numeric\n",
    "mean_numeric_by_month = data.groupby('month')['numeric'].mean()\n",
    "\n",
    "# Построение графика среднего значения numeric по месяцам\n",
    "plt.figure(figsize=(10, 6))\n",
    "mean_numeric_by_month.plot(marker='o', color='b')\n",
    "plt.xlabel('Месяц')\n",
    "plt.ylabel('Среднее значение numeric')\n",
    "plt.title('Среднее значение numeric по месяцам')\n",
    "plt.xticks(range(1, 13), ['Янв', 'Фев', 'Мар', 'Апр', 'Май', 'Июн', 'Июл', 'Авг', 'Сен', 'Окт', 'Ноя', 'Дек'])\n",
    "plt.grid(True)\n",
    "plt.show()"
   ]
  },
  {
   "cell_type": "markdown",
   "id": "f3167c4d",
   "metadata": {},
   "source": [
    "# Доп. задание\n",
    "1. Случайно поделить датасет на 3 части - в одной 25% записей, во второй 25% и 50% в третьей.\n",
    "2. Проверить на статистическую значимость различий для среднего по колонке numeric\n",
    "3. Оценить силу эффекта\n",
    "4. Проделать шаги 2 и 3 используя баесовский подход\n",
    "5. Кратко описать как выбирали методы расчета\n"
   ]
  },
  {
   "cell_type": "code",
   "execution_count": 97,
   "id": "ff7d5600",
   "metadata": {},
   "outputs": [
    {
     "name": "stdout",
     "output_type": "stream",
     "text": [
      "Различия между первым и вторым сегментами не являются статистически значимыми.\n",
      "Различия между первым и третьим сегментами не являются статистически значимыми.\n",
      "Различия между вторым и третьим сегментами не являются статистически значимыми.\n"
     ]
    }
   ],
   "source": [
    "#Классический подход\n",
    "import pandas as pd\n",
    "import numpy as np\n",
    "from scipy.stats import ttest_ind\n",
    "\n",
    "# Разделение датасета на три части (25%, 25%, 50%)\n",
    "df_part1 = df.sample(frac=0.25)\n",
    "df = df.drop(df_part1.index)\n",
    "df_part2 = df.sample(frac=0.25)\n",
    "df_part3 = df.drop(df_part2.index)\n",
    "\n",
    "# Вычисление средних значений numeric\n",
    "mean_numeric_part1 = df_part1['numeric'].mean()\n",
    "mean_numeric_part2 = df_part2['numeric'].mean()\n",
    "mean_numeric_part3 = df_part3['numeric'].mean()\n",
    "\n",
    "# Проверка статистической значимости средних значений\n",
    "t_statistic, p_value = ttest_ind(df_part1['numeric'], df_part2['numeric'])\n",
    "if p_value < 0.05:\n",
    "    print(\"Различия между первым и вторым сегментами статистически значимы.\")\n",
    "else:\n",
    "    print(\"Различия между первым и вторым сегментами не являются статистически значимыми.\")\n",
    "\n",
    "t_statistic, p_value = ttest_ind(df_part1['numeric'], df_part3['numeric'])\n",
    "if p_value < 0.05:\n",
    "    print(\"Различия между первым и третьим сегментами статистически значимы.\")\n",
    "else:\n",
    "    print(\"Различия между первым и третьим сегментами не являются статистически значимыми.\")\n",
    "\n",
    "t_statistic, p_value = ttest_ind(df_part2['numeric'], df_part3['numeric'])\n",
    "if p_value < 0.05:\n",
    "    print(\"Различия между вторым и третьим сегментами статистически значимы.\")\n",
    "else:\n",
    "    print(\"Различия между вторым и третьим сегментами не являются статистически значимыми.\")\n"
   ]
  },
  {
   "cell_type": "code",
   "execution_count": null,
   "id": "3733b78c",
   "metadata": {},
   "outputs": [],
   "source": [
    "#Байесовский подход\n",
    "import pandas as pd\n",
    "import numpy as np\n",
    "!pip install pymc3\n",
    "import pymc3 as pm\n",
    "\n",
    "# Разделение датасета на три части (25%, 25%, 50%)\n",
    "df_part1 = df.sample(frac=0.25)\n",
    "df = df.drop(df_part1.index)\n",
    "df_part2 = df.sample(frac=0.25)\n",
    "df_part3 = df.drop(df_part2.index)\n",
    "\n",
    "# Создание модели в PyMC3\n",
    "with pm.Model() as model:\n",
    "    # Средние значения numeric для каждой группы\n",
    "    mean1 = pm.Normal('mean1', mu=df_part1['numeric'].mean(), sd=10)\n",
    "    mean2 = pm.Normal('mean2', mu=df_part2['numeric'].mean(), sd=10)\n",
    "    mean3 = pm.Normal('mean3', mu=df_part3['numeric'].mean(), sd=10)\n",
    "\n",
    "    # Различия между средними значениями\n",
    "    diff12 = pm.Deterministic('diff12', mean1 - mean2)\n",
    "    diff13 = pm.Deterministic('diff13', mean1 - mean3)\n",
    "    diff23 = pm.Deterministic('diff23', mean2 - mean3)\n",
    "\n",
    "    # Стандартное отклонение для каждой группы\n",
    "    sd = pm.Uniform('sd', lower=0, upper=10)\n",
    "\n",
    "    # Распределения для наблюдаемых данных\n",
    "    obs1 = pm.Normal('obs1', mu=mean1, sd=sd, observed=df_part1['numeric'])\n",
    "    obs2 = pm.Normal('obs2', mu=mean2, sd=sd, observed=df_part2['numeric'])\n",
    "    obs3 = pm.Normal('obs3', mu=mean3, sd=sd, observed=df_part3['numeric'])\n",
    "\n",
    "    # Выполнение сэмплирования\n",
    "    trace = pm.sample(1000, tune=1000)\n",
    "\n",
    "# Вывод результатов\n",
    "pm.summary(trace, varnames=['diff12', 'diff13', 'diff23'], alpha=0.05)"
   ]
  },
  {
   "cell_type": "markdown",
   "id": "593775b5",
   "metadata": {},
   "source": [
    "# Доп. задание 2\n",
    "Вводные\n",
    "1.\tИзвестно что компания конкурент выпустила 1000 прототипов игр, из которых было 5 успешных.\n",
    "2.\tНаша компания выпустила 200 прототипов из которых ни один не был успешен.\n",
    "\n",
    "Какова вероятность что следующий (201й) наш прототип будет успешен? Какими методами можно решать данную задачу? Предложите как минимум 2 варианта. Если у вас есть какой-то вариант решения задачи для которого требуются доп. данные - перечислите что требуется и метод решения.\n"
   ]
  },
  {
   "cell_type": "code",
   "execution_count": 103,
   "id": "0d380be4",
   "metadata": {},
   "outputs": [
    {
     "name": "stdout",
     "output_type": "stream",
     "text": [
      "Вероятность успеха следующего прототипа (метод максимального правдоподобия): 0.005\n"
     ]
    }
   ],
   "source": [
    "#Метод максимального правдоподобия\n",
    "\n",
    "# Доля успешных прототипов в предыдущих данных\n",
    "success_rate = 5 / 1000\n",
    "\n",
    "# Вероятность успеха следующего прототипа\n",
    "probability_next_success = success_rate\n",
    "print(\"Вероятность успеха следующего прототипа (метод максимального правдоподобия):\", probability_next_success)\n"
   ]
  },
  {
   "cell_type": "code",
   "execution_count": 104,
   "id": "c8543d4f",
   "metadata": {},
   "outputs": [
    {
     "name": "stdout",
     "output_type": "stream",
     "text": [
      "Вероятность успеха следующего прототипа (байесовский подход): 0.004739336492890996\n"
     ]
    }
   ],
   "source": [
    "#Байесовский подход\n",
    "\n",
    "import scipy.stats as stats\n",
    "\n",
    "# Параметры априорного бета-распределения\n",
    "alpha_prior = 1\n",
    "beta_prior = 10\n",
    "\n",
    "# Обновление распределения с учетом новых данных (200 неудачных прототипов)\n",
    "alpha_posterior = alpha_prior\n",
    "beta_posterior = beta_prior + 200\n",
    "\n",
    "# Вычисление апостериорного среднего\n",
    "posterior_mean = alpha_posterior / (alpha_posterior + beta_posterior)\n",
    "\n",
    "print(\"Вероятность успеха следующего прототипа (байесовский подход):\", posterior_mean)\n"
   ]
  },
  {
   "cell_type": "code",
   "execution_count": null,
   "id": "5004a4f1",
   "metadata": {},
   "outputs": [],
   "source": [
    "#Первый вариант использует метод максимального правдоподобия, \n",
    "#который просто опирается на долю успешных прототипов в предыдущих данных. \n",
    "#Второй вариант использует байесовский подход с использованием бета-распределения в качестве априорного распределения и\n",
    "#обновляет его с учетом новых данных о неудачных прототипах. \n",
    "#Оба метода дадут оценку вероятности успеха следующего прототипа."
   ]
  }
 ],
 "metadata": {
  "kernelspec": {
   "display_name": "Python 3 (ipykernel)",
   "language": "python",
   "name": "python3"
  },
  "language_info": {
   "codemirror_mode": {
    "name": "ipython",
    "version": 3
   },
   "file_extension": ".py",
   "mimetype": "text/x-python",
   "name": "python",
   "nbconvert_exporter": "python",
   "pygments_lexer": "ipython3",
   "version": "3.9.13"
  }
 },
 "nbformat": 4,
 "nbformat_minor": 5
}
